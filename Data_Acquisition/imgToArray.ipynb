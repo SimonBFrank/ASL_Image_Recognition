{
 "cells": [
  {
   "cell_type": "markdown",
   "metadata": {},
   "source": [
    "This extracts the appropiate letters from the kaggle data set and saves them into a .npy file. This will later be combined with the collected data to create final data set. This data set can be found at  https://www.kaggle.com/grassknoted/asl-alphabet."
   ]
  },
  {
   "cell_type": "code",
   "execution_count": null,
   "metadata": {},
   "outputs": [],
   "source": [
    "import numpy as np\n",
    "import random\n",
    "import matplotlib.pyplot as plt\n",
    "%matplotlib inline\n",
    "\n",
    "import os\n",
    "import matplotlib.image as mpimg\n",
    "import cv2\n",
    "\n",
    "mydir = './asl_alphabet_train'\n",
    "\n",
    "labels = []\n",
    "data = []\n",
    "# print(os.listdir(mydir))\n",
    "chars = ['A','B','C','D','E','F','G','H','I']\n",
    "\n",
    "for c in chars:\n",
    "    newdir = mydir+\"/\"+c\n",
    "    print(newdir)\n",
    "    for file in os.listdir(newdir):\n",
    "\n",
    "        # Will only read .jpg files\n",
    "        if file.endswith(\".jpg\"): \n",
    "            filename = newdir+'/'+file\n",
    "            x = mpimg.imread(filename)\n",
    "            resized_x = cv2.resize(x, (100, 100))\n",
    "            data.append((resized_x))\n",
    "#             plt.imshow(resized_x);plt.show()\n",
    "            l = file[0]\n",
    "            labels.append(l)\n",
    "\n",
    "print(np.shape(data), np.shape(labels))\n",
    "\n",
    "# Saves the files to your current directory\n",
    "np.save('kaggle_data', data)\n",
    "np.save('kaggle_labels', labels)\n",
    "\n",
    "\n",
    "\n",
    "\n"
   ]
  }
 ],
 "metadata": {
  "hide_input": false,
  "kernelspec": {
   "display_name": "Python 3",
   "language": "python",
   "name": "python3"
  },
  "language_info": {
   "codemirror_mode": {
    "name": "ipython",
    "version": 3
   },
   "file_extension": ".py",
   "mimetype": "text/x-python",
   "name": "python",
   "nbconvert_exporter": "python",
   "pygments_lexer": "ipython3",
   "version": "3.7.3"
  }
 },
 "nbformat": 4,
 "nbformat_minor": 2
}
