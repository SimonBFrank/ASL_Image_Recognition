{
 "cells": [
  {
   "cell_type": "markdown",
   "metadata": {},
   "source": [
    "# Testing the Model"
   ]
  },
  {
   "cell_type": "markdown",
   "metadata": {},
   "source": [
    "**Download the normal model here: https://drive.google.com/open?id=1-5zaLocjGkIn7ZwsieCcnmdJw04JsNnp**"
   ]
  },
  {
   "cell_type": "markdown",
   "metadata": {},
   "source": [
    "**Download the EC model here: https://drive.google.com/file/d/1cqDoyR7i74Qc2leFKjcutmxWP38dehER**"
   ]
  },
  {
   "cell_type": "markdown",
   "metadata": {},
   "source": [
    "### Enter the filepaths for the data, labels, and model"
   ]
  },
  {
   "cell_type": "code",
   "execution_count": 1,
   "metadata": {},
   "outputs": [],
   "source": [
    "dataDir = './test_data.npy'"
   ]
  },
  {
   "cell_type": "code",
   "execution_count": 2,
   "metadata": {},
   "outputs": [],
   "source": [
    "labelsDir = './test_labels.npy'"
   ]
  },
  {
   "cell_type": "code",
   "execution_count": 3,
   "metadata": {},
   "outputs": [],
   "source": [
    "load_model_filepath = './best_model.h5'"
   ]
  },
  {
   "cell_type": "code",
   "execution_count": 4,
   "metadata": {},
   "outputs": [],
   "source": [
    "load_model_filepath_ec = './model_ec.h5'"
   ]
  },
  {
   "cell_type": "markdown",
   "metadata": {},
   "source": [
    "### Once you've entered the file paths, run all and go to bottom of file to see results"
   ]
  },
  {
   "cell_type": "code",
   "execution_count": 5,
   "metadata": {},
   "outputs": [],
   "source": [
    "from matplotlib import pyplot as plt\n",
    "import numpy as np\n",
    "import collections\n",
    "\n",
    "from tensorflow import keras\n",
    "\n",
    "import numpy as np\n",
    "import matplotlib.pyplot as plt\n",
    "%matplotlib inline\n",
    "\n",
    "from tensorflow.keras.models import Sequential\n",
    "from tensorflow.keras.layers import Dense, Dropout, Flatten\n",
    "from tensorflow.keras.layers import Conv2D, MaxPooling2D\n",
    "from tensorflow.keras import optimizers\n",
    "from tensorflow.keras.preprocessing.image import ImageDataGenerator\n",
    "from tensorflow.keras.callbacks import EarlyStopping\n",
    "from tensorflow.keras.callbacks import ModelCheckpoint\n",
    "\n",
    "from sklearn.metrics import classification_report, confusion_matrix\n",
    "from tensorflow.keras.models import load_model\n",
    "from tensorflow.keras.utils import plot_model\n",
    "\n",
    "from sklearn.metrics import accuracy_score\n",
    "\n",
    "import seaborn as sns"
   ]
  },
  {
   "cell_type": "code",
   "execution_count": 6,
   "metadata": {},
   "outputs": [],
   "source": [
    "class Classifier:\n",
    "    def __init__(self,numClasses, input_shape, batch_size, epochs):\n",
    "        # with strategy.scope():\n",
    "            self.numClasses = numClasses\n",
    "            self.input_shape = input_shape\n",
    "            self.batch_size = batch_size\n",
    "            self.epochs = epochs\n",
    "            \n",
    "\n",
    "            self.model = Sequential()\n",
    "\n",
    "            self.model.add(Conv2D(64,kernel_size=2,\n",
    "                            activation='relu',\n",
    "                            padding= 'same',\n",
    "                            input_shape=input_shape, data_format='channels_last'))\n",
    "\n",
    "            self.model.add(Conv2D(128, (3, 3), activation='relu'))\n",
    "            self.model.add(MaxPooling2D(pool_size=(2, 2)))\n",
    "            \n",
    "            self.model.add(Conv2D(128, (3, 3), activation='relu'))\n",
    "            self.model.add(MaxPooling2D(pool_size=(2, 2)))\n",
    "\n",
    "            self.model.add(Dropout(.5))\n",
    "            \n",
    "            self.model.add(Flatten())\n",
    "\n",
    "            self.model.add(Dense(128, activation='relu'))\n",
    "            self.model.add(Dropout(.5))\n",
    "            \n",
    "            self.model.add(Dense(self.numClasses, activation='softmax'))\n",
    "\n",
    "\n",
    "\n",
    "            sgd = optimizers.SGD(lr=0.001, decay=1e-6, momentum=0.9, nesterov=True)\n",
    "            adam = optimizers.Adam(lr=0.001, beta_1=0.9, beta_2=0.999, amsgrad=False)\n",
    "\n",
    "            \n",
    "            self.model.compile(loss='categorical_crossentropy',\n",
    "                          optimizer= adam,\n",
    "                          metrics=['accuracy'])\n",
    "            \n",
    "            self.model.summary()\n",
    "\n",
    "\n",
    "    def Train(self, Xtrain, ytrain, Xtest, ytest, model_filepath):\n",
    "        es = EarlyStopping(monitor='val_loss', mode='min', verbose=1, patience=30)\n",
    "        mc = ModelCheckpoint(model_filepath, monitor='val_accuracy', mode='max', verbose=1, save_best_only=True)\n",
    "        self.model.fit(Xtrain, ytrain,\n",
    "                    steps_per_epoch=len(Xtrain)//self.batch_size, \n",
    "                    validation_data= (Xtest, ytest), \n",
    "                    validation_steps=len(Xtest)//self.batch_size,\n",
    "                    epochs=self.epochs,\n",
    "                    shuffle=True,\n",
    "                    verbose = 1, \n",
    "                    callbacks= [es, mc])\n",
    "          \n",
    "    def Test(self, Xtest, ytest): \n",
    "        if('A' in ytest):\n",
    "           ytest = keras.utils.to_categorical(charToInt(ytest));\n",
    "       \n",
    "        predictions = self.model.predict(Xtest)\n",
    "        y_pred = np.argmax(predictions, axis=1)\n",
    "        ytest = ytest.argmax(axis=1)\n",
    "\n",
    "        ACC = accuracy_score(ytest, y_pred)\n",
    "        print('\\nClassification Accuracy (ACC): {0:0.1f}'.format(ACC*100) + '%')\n",
    "\n",
    "        print(\"\\nConfusion Matrix\")                                          \n",
    "        cm = confusion_matrix(ytest, y_pred)\n",
    "\n",
    "        sns.heatmap(cm, cbar=False, annot=True,fmt=\"d\", linewidths=.5,\n",
    "              yticklabels=['A','B','C','D','E','F','G','H','I'],\n",
    "              xticklabels=['A','B','C','D','E','F','G','H','I'])\n",
    "        plt.xlabel('True label')\n",
    "        plt.ylabel('Predicted label')\n",
    "        plt.show()\n",
    "\n",
    "        print(classification_report(y_pred, ytest))\n",
    "\n",
    "    def TestEC(self, Xtest, ytest):        \n",
    "        if('A' in ytest):\n",
    "            ytest = keras.utils.to_categorical(charToInt(ytest));\n",
    "       \n",
    "        predictions = self.model.predict(Xtest)\n",
    "        y_pred = np.argmax(predictions, axis=1)\n",
    "        ytest = ytest.argmax(axis=1)\n",
    "\n",
    "        ACC = accuracy_score(ytest, y_pred)\n",
    "        print('\\nClassification Accuracy (ACC): {0:0.1f}'.format(ACC*100) + '%')\n",
    "\n",
    "        print(\"\\nConfusion Matrix\")                                          \n",
    "        cm = confusion_matrix(ytest, y_pred)\n",
    "\n",
    "        sns.heatmap(cm, cbar=False, annot=True,fmt=\"d\", linewidths=.5,\n",
    "              yticklabels=['unknown','A','B','C','D','E','F','G','H','I'],\n",
    "              xticklabels=['unknown','A','B','C','D','E','F','G','H','I'])\n",
    "        plt.xlabel('True label')\n",
    "        plt.ylabel('Predicted label')\n",
    "        plt.show()\n",
    "\n",
    "        print(classification_report(y_pred, ytest))\n",
    "\n",
    "\n",
    "    \n",
    "\n",
    "    def SaveModel(self, filename):\n",
    "        self.model.save(filename)\n",
    "    \n",
    "    def LoadModel(self, filename):\n",
    "        self.model = load_model(filename)\n",
    "\n",
    "    def Plot(self):\n",
    "        plot_model(self.model)\n"
   ]
  },
  {
   "cell_type": "code",
   "execution_count": 7,
   "metadata": {},
   "outputs": [],
   "source": [
    "def charToInt(data):\n",
    "    charToIntdict = {'A': 1, 'B': 2,'C': 3, 'D': 4,'E': 5,'F': 6,'G' : 7, 'H': 8, 'I': 9, 'unknown': -1}\n",
    "    temp = np.zeros(len(data))\n",
    "    for index, element in enumerate(data):\n",
    "        temp[index] = charToIntdict[element[0]]\n",
    "    return temp"
   ]
  },
  {
   "cell_type": "code",
   "execution_count": 9,
   "metadata": {},
   "outputs": [
    {
     "name": "stdout",
     "output_type": "stream",
     "text": [
      "float32\n"
     ]
    },
    {
     "data": {
      "text/plain": [
       "((1844, 100, 100, 3), (1844, 10))"
      ]
     },
     "execution_count": 9,
     "metadata": {},
     "output_type": "execute_result"
    }
   ],
   "source": [
    "from sklearn.model_selection import train_test_split\n",
    "\n",
    "data = np.load(dataDir)\n",
    "labels = np.load(labelsDir)\n",
    "\n",
    "Xtest = data.astype(np.float32) / 255.0\n",
    "ytest = keras.utils.to_categorical(charToInt(labels))\n",
    "\n",
    "print(Xtest[0].dtype)\n",
    "Xtest.shape, ytest.shape"
   ]
  },
  {
   "cell_type": "code",
   "execution_count": 10,
   "metadata": {},
   "outputs": [
    {
     "name": "stdout",
     "output_type": "stream",
     "text": [
      "Model: \"sequential\"\n",
      "_________________________________________________________________\n",
      "Layer (type)                 Output Shape              Param #   \n",
      "=================================================================\n",
      "conv2d (Conv2D)              (None, 100, 100, 64)      832       \n",
      "_________________________________________________________________\n",
      "conv2d_1 (Conv2D)            (None, 98, 98, 128)       73856     \n",
      "_________________________________________________________________\n",
      "max_pooling2d (MaxPooling2D) (None, 49, 49, 128)       0         \n",
      "_________________________________________________________________\n",
      "conv2d_2 (Conv2D)            (None, 47, 47, 128)       147584    \n",
      "_________________________________________________________________\n",
      "max_pooling2d_1 (MaxPooling2 (None, 23, 23, 128)       0         \n",
      "_________________________________________________________________\n",
      "dropout (Dropout)            (None, 23, 23, 128)       0         \n",
      "_________________________________________________________________\n",
      "flatten (Flatten)            (None, 67712)             0         \n",
      "_________________________________________________________________\n",
      "dense (Dense)                (None, 128)               8667264   \n",
      "_________________________________________________________________\n",
      "dropout_1 (Dropout)          (None, 128)               0         \n",
      "_________________________________________________________________\n",
      "dense_1 (Dense)              (None, 10)                1290      \n",
      "=================================================================\n",
      "Total params: 8,890,826\n",
      "Trainable params: 8,890,826\n",
      "Non-trainable params: 0\n",
      "_________________________________________________________________\n"
     ]
    }
   ],
   "source": [
    "numClasses = 10\n",
    "input_shape =(100,100,3)\n",
    "batch_size = 64\n",
    "epochs=130\n",
    "\n",
    "best_model = Classifier(numClasses=numClasses, input_shape=input_shape, batch_size=batch_size, epochs=epochs)\n",
    "best_model.LoadModel(load_model_filepath)"
   ]
  },
  {
   "cell_type": "code",
   "execution_count": null,
   "metadata": {},
   "outputs": [
    {
     "name": "stderr",
     "output_type": "stream",
     "text": [
      "C:\\Users\\frank\\Anaconda3\\lib\\site-packages\\ipykernel_launcher.py:58: FutureWarning: elementwise comparison failed; returning scalar instead, but in the future will perform elementwise comparison\n"
     ]
    }
   ],
   "source": [
    "best_model.Test(Xtest, ytest)"
   ]
  },
  {
   "cell_type": "code",
   "execution_count": null,
   "metadata": {},
   "outputs": [],
   "source": []
  }
 ],
 "metadata": {
  "hide_input": false,
  "kernelspec": {
   "display_name": "Python 3",
   "language": "python",
   "name": "python3"
  },
  "language_info": {
   "codemirror_mode": {
    "name": "ipython",
    "version": 3
   },
   "file_extension": ".py",
   "mimetype": "text/x-python",
   "name": "python",
   "nbconvert_exporter": "python",
   "pygments_lexer": "ipython3",
   "version": "3.7.3"
  }
 },
 "nbformat": 4,
 "nbformat_minor": 4
}
